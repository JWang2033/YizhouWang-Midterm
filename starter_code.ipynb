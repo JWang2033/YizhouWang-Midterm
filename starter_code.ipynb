{
 "cells": [
  {
   "cell_type": "markdown",
   "metadata": {},
   "source": [
    "# Libraries"
   ]
  },
  {
   "cell_type": "code",
   "execution_count": 1,
   "metadata": {},
   "outputs": [],
   "source": [
    "import pickle\n",
    "import pandas as pd\n",
    "import seaborn as sns\n",
    "from os.path import exists\n",
    "import matplotlib.pyplot as plt\n",
    "from sklearn.neighbors import KNeighborsClassifier\n",
    "from sklearn.model_selection import train_test_split\n",
    "from sklearn.metrics import accuracy_score, confusion_matrix\n",
    "from textblob import TextBlob\n"
   ]
  },
  {
   "cell_type": "markdown",
   "metadata": {},
   "source": [
    "# Loading the Files\n",
    "\n",
    "Download the csv files into the `data/` directory."
   ]
  },
  {
   "cell_type": "code",
   "execution_count": 2,
   "metadata": {},
   "outputs": [
    {
     "name": "stdout",
     "output_type": "stream",
     "text": [
      "train.csv shape is  (1697533, 9)\n",
      "test.csv shape is  (212192, 2)\n",
      "\n",
      "        Id   ProductId          UserId  HelpfulnessNumerator  \\\n",
      "0   914403  B0009W5KHM   AV6QDP8Q0ONK4                     2   \n",
      "1   354887  6303079709  A2I8RXJN80A2D2                     0   \n",
      "2  1407653  B004H0M2XC  A3FHV3RV8Z12E6                     0   \n",
      "3  1377458  B003ZJ9536  A12VLTA3ZHVPUY                     1   \n",
      "4   475323  630574453X  A13NM1PES9OXVN                     2   \n",
      "\n",
      "   HelpfulnessDenominator        Time  \\\n",
      "0                       2  1341014400   \n",
      "1                       0  1168819200   \n",
      "2                       0  1386201600   \n",
      "3                       1  1348704000   \n",
      "4                       3   970012800   \n",
      "\n",
      "                                         Summary  \\\n",
      "0                                  GOOD FUN FILM   \n",
      "1                                   Movie Review   \n",
      "2             When is it a good time to Consent?   \n",
      "3                                          TRUTH   \n",
      "4  Intelligent and bittersweet -- stays with you   \n",
      "\n",
      "                                                Text  Score  \n",
      "0  While most straight to DVD films are not worth...    5.0  \n",
      "1  I have wanted this one for sometime, also.  I ...    5.0  \n",
      "2  Actually this was a pretty darn good indie fil...    4.0  \n",
      "3  Episodes 37 to 72 of the series press on in a ...    5.0  \n",
      "4  I was really impressed with this movie, but wa...    3.0  \n",
      "\n",
      "        Id  Score\n",
      "0  1323432    NaN\n",
      "1  1137299    NaN\n",
      "2  1459366    NaN\n",
      "3   931601    NaN\n",
      "4  1311995    NaN\n",
      "\n",
      "                 Id  HelpfulnessNumerator  HelpfulnessDenominator  \\\n",
      "count  1.697533e+06          1.697533e+06            1.697533e+06   \n",
      "mean   8.487660e+05          3.569048e+00            5.301422e+00   \n",
      "std    4.900357e+05          1.727883e+01            2.024445e+01   \n",
      "min    0.000000e+00          0.000000e+00            0.000000e+00   \n",
      "25%    4.243830e+05          0.000000e+00            0.000000e+00   \n",
      "50%    8.487660e+05          1.000000e+00            1.000000e+00   \n",
      "75%    1.273149e+06          3.000000e+00            5.000000e+00   \n",
      "max    1.697532e+06          6.084000e+03            6.510000e+03   \n",
      "\n",
      "               Time         Score  \n",
      "count  1.697533e+06  1.485341e+06  \n",
      "mean   1.262422e+09  4.110517e+00  \n",
      "std    1.289277e+08  1.197651e+00  \n",
      "min    8.793792e+08  1.000000e+00  \n",
      "25%    1.164413e+09  4.000000e+00  \n",
      "50%    1.307491e+09  5.000000e+00  \n",
      "75%    1.373242e+09  5.000000e+00  \n",
      "max    1.406074e+09  5.000000e+00  \n"
     ]
    },
    {
     "data": {
      "image/png": "[encoded data removed]",
      "text/plain": [
       "<Figure size 640x480 with 1 Axes>"
      ]
     },
     "metadata": {},
     "output_type": "display_data"
    },
    {
     "name": "stdout",
     "output_type": "stream",
     "text": [
      "\n",
      "EVERYTHING IS PROPERLY SET UP! YOU ARE READY TO START\n"
     ]
    }
   ],
   "source": [
    "\n",
    "trainingSet = pd.read_csv(\"train.csv\")\n",
    "testingSet = pd.read_csv(\"test.csv\")\n",
    "\n",
    "print(\"train.csv shape is \", trainingSet.shape)\n",
    "print(\"test.csv shape is \", testingSet.shape)\n",
    "\n",
    "print()\n",
    "\n",
    "print(trainingSet.head())\n",
    "print()\n",
    "print(testingSet.head())\n",
    "\n",
    "print()\n",
    "\n",
    "print(trainingSet.describe())\n",
    "\n",
    "trainingSet['Score'].value_counts().plot(kind='bar', legend=True, alpha=.5)\n",
    "plt.show()\n",
    "\n",
    "print()\n",
    "print(\"EVERYTHING IS PROPERLY SET UP! YOU ARE READY TO START\")"
   ]
  },
  {
   "cell_type": "code",
   "execution_count": 3,
   "metadata": {},
   "outputs": [
    {
     "data": {
      "text/plain": [
       "'import pandas as pd\\nfrom sklearn.model_selection import train_test_split, cross_val_score\\nfrom sklearn.feature_extraction.text import TfidfVectorizer\\nfrom sklearn.linear_model import LogisticRegression\\nfrom sklearn.naive_bayes import MultinomialNB\\nfrom sklearn.ensemble import RandomForestClassifier, GradientBoostingClassifier\\nfrom sklearn.svm import SVC\\nfrom sklearn.tree import DecisionTreeClassifier\\nfrom sklearn.pipeline import make_pipeline\\nfrom sklearn.metrics import accuracy_score\\nfrom sklearn.neighbors import KNeighborsClassifier\\n\\n# Step 1: Load the dataset\\ndf = pd.read_csv(\\'train.csv\\')\\n\\n# Step 2: Sample only a small part of the dataset for faster cross-validation\\n# You can adjust frac to use a smaller fraction (e.g., 5% of the dataset)\\ndf_sampled = df.sample(frac=0.02, random_state=42)  # Use only 5% of the data\\n\\n# Step 3: Fill NaN values in the text column with empty strings\\ndf_sampled[\\'Text\\'] = df_sampled[\\'Text\\'].fillna(\\'\\')  # Replace \\'Text\\' with the actual text column name\\ndf_sampled = df_sampled.dropna(subset=[\\'Score\\'])    # Drop rows where \\'Score\\' is NaN\\n\\n# Step 4: Define the text and target columns\\nX_text = df_sampled[\\'Text\\']  # Replace \\'Text\\' with your actual text column name\\ny = df_sampled[\\'Score\\']      # Replace \\'Score\\' with your actual target column name\\n\\n# Step 5: TF-IDF vectorizer\\nvectorizer = TfidfVectorizer(max_features=5000, stop_words=\\'english\\')\\n\\n# Step 6: Split the data into training and testing sets\\nX_train, X_test, y_train, y_test = train_test_split(X_text, y, test_size=0.2, random_state=42)\\n\\n# Step 7: Model Comparison using Cross-Validation\\nmodels = {\\n    \\'Logistic Regression\\': LogisticRegression(max_iter=1000),\\n    \\'Support Vector Machine\\': SVC(),\\n    \\'Naive Bayes\\': MultinomialNB(),\\n    \\'Random Forest\\': RandomForestClassifier(),\\n    \\'Gradient Boosting\\': GradientBoostingClassifier(),\\n    \\'Decision Tree\\': DecisionTreeClassifier(),\\n    \\'K-Nearest Neighbors (KNN)\\': KNeighborsClassifier(n_neighbors=5)\\n}\\n\\n# Step 8: Iterate over each model and evaluate with cross-validation\\nfor model_name, model in models.items():\\n    pipeline = make_pipeline(vectorizer, model)\\n    scores = cross_val_score(pipeline, X_train, y_train, cv=5, scoring=\\'accuracy\\')\\n    print(f\"{model_name}: Average Accuracy = {scores.mean():.4f}\")\\n\\n# Step 9: Test the final model on the test set (replace with your best-performing model)\\nbest_model = LogisticRegression(max_iter=1000)  # Replace with your best-performing model\\npipeline = make_pipeline(vectorizer, best_model)\\npipeline.fit(X_train, y_train)\\ny_pred = pipeline.predict(X_test)\\n\\n# Step 10: Evaluate the final model on the test set\\nfinal_accuracy = accuracy_score(y_test, y_pred)\\nprint(f\"Final Accuracy on test set: {final_accuracy:.4f}\")'"
      ]
     },
     "execution_count": 3,
     "metadata": {},
     "output_type": "execute_result"
    }
   ],
   "source": [
    "'''import pandas as pd\n",
    "from sklearn.model_selection import train_test_split, cross_val_score\n",
    "from sklearn.feature_extraction.text import TfidfVectorizer\n",
    "from sklearn.linear_model import LogisticRegression\n",
    "from sklearn.naive_bayes import MultinomialNB\n",
    "from sklearn.ensemble import RandomForestClassifier, GradientBoostingClassifier\n",
    "from sklearn.svm import SVC\n",
    "from sklearn.tree import DecisionTreeClassifier\n",
    "from sklearn.pipeline import make_pipeline\n",
    "from sklearn.metrics import accuracy_score\n",
    "from sklearn.neighbors import KNeighborsClassifier\n",
    "\n",
    "# Step 1: Load the dataset\n",
    "df = pd.read_csv('train.csv')\n",
    "\n",
    "# Step 2: Sample only a small part of the dataset for faster cross-validation\n",
    "# You can adjust frac to use a smaller fraction (e.g., 5% of the dataset)\n",
    "df_sampled = df.sample(frac=0.02, random_state=42)  # Use only 5% of the data\n",
    "\n",
    "# Step 3: Fill NaN values in the text column with empty strings\n",
    "df_sampled['Text'] = df_sampled['Text'].fillna('')  # Replace 'Text' with the actual text column name\n",
    "df_sampled = df_sampled.dropna(subset=['Score'])    # Drop rows where 'Score' is NaN\n",
    "\n",
    "# Step 4: Define the text and target columns\n",
    "X_text = df_sampled['Text']  # Replace 'Text' with your actual text column name\n",
    "y = df_sampled['Score']      # Replace 'Score' with your actual target column name\n",
    "\n",
    "# Step 5: TF-IDF vectorizer\n",
    "vectorizer = TfidfVectorizer(max_features=5000, stop_words='english')\n",
    "\n",
    "# Step 6: Split the data into training and testing sets\n",
    "X_train, X_test, y_train, y_test = train_test_split(X_text, y, test_size=0.2, random_state=42)\n",
    "\n",
    "# Step 7: Model Comparison using Cross-Validation\n",
    "models = {\n",
    "    'Logistic Regression': LogisticRegression(max_iter=1000),\n",
    "    'Support Vector Machine': SVC(),\n",
    "    'Naive Bayes': MultinomialNB(),\n",
    "    'Random Forest': RandomForestClassifier(),\n",
    "    'Gradient Boosting': GradientBoostingClassifier(),\n",
    "    'Decision Tree': DecisionTreeClassifier(),\n",
    "    'K-Nearest Neighbors (KNN)': KNeighborsClassifier(n_neighbors=5)\n",
    "}\n",
    "\n",
    "# Step 8: Iterate over each model and evaluate with cross-validation\n",
    "for model_name, model in models.items():\n",
    "    pipeline = make_pipeline(vectorizer, model)\n",
    "    scores = cross_val_score(pipeline, X_train, y_train, cv=5, scoring='accuracy')\n",
    "    print(f\"{model_name}: Average Accuracy = {scores.mean():.4f}\")\n",
    "\n",
    "# Step 9: Test the final model on the test set (replace with your best-performing model)\n",
    "best_model = LogisticRegression(max_iter=1000)  # Replace with your best-performing model\n",
    "pipeline = make_pipeline(vectorizer, best_model)\n",
    "pipeline.fit(X_train, y_train)\n",
    "y_pred = pipeline.predict(X_test)\n",
    "\n",
    "# Step 10: Evaluate the final model on the test set\n",
    "final_accuracy = accuracy_score(y_test, y_pred)\n",
    "print(f\"Final Accuracy on test set: {final_accuracy:.4f}\")'''\n"
   ]
  },
  {
   "cell_type": "markdown",
   "metadata": {},
   "source": [
    "# Adding Features"
   ]
  },
  {
   "cell_type": "code",
   "execution_count": 4,
   "metadata": {},
   "outputs": [],
   "source": [
    "from vaderSentiment.vaderSentiment import SentimentIntensityAnalyzer\n",
    "import pandas as pd\n",
    "analyzer = SentimentIntensityAnalyzer()\n",
    "def calculate_vader_sentiment_score(text):\n",
    "    \"\"\"\n",
    "    Calculate the VADER sentiment score of the given text.\n",
    "\n",
    "    :param text: The text to analyze\n",
    "    :return: Sentiment polarity score ranging from -1 (negative) to 1 (positive)\n",
    "    \"\"\"\n",
    "    if pd.notnull(text):\n",
    "        sentiment_dict = analyzer.polarity_scores(str(text))\n",
    "        return sentiment_dict['compound']  # Compound score ranges from -1 to 1\n",
    "    else:\n",
    "        return 0\n"
   ]
  },
  {
   "cell_type": "code",
   "execution_count": 5,
   "metadata": {},
   "outputs": [],
   "source": [
    "def compute_user_rating_features(df, alpha=5):\n",
    "    \"\"\"\n",
    "    Compute user-level features representing the likelihood of giving certain ratings.\n",
    "    This function calculates the weighted user average rating and rating variability.\n",
    "\n",
    "    :param df: DataFrame with 'UserId' and 'Score' columns\n",
    "    :param alpha: Smoothing parameter for weighted average\n",
    "    :return: DataFrame with user-level features\n",
    "    \"\"\"\n",
    "    # Calculate the global average rating\n",
    "    global_average = df['Score'].mean()\n",
    "\n",
    "    # Group by UserId and calculate various user-level metrics\n",
    "    user_stats = df.groupby('UserId').agg(\n",
    "        user_average_rating=('Score', 'mean'),\n",
    "        num_ratings=('Score', 'size'),\n",
    "        rating_std_dev=('Score', 'std')\n",
    "    ).reset_index()\n",
    "\n",
    "    # Calculate the weighted user average rating\n",
    "    user_stats['weighted_user_average'] = (\n",
    "        (alpha * global_average + user_stats['user_average_rating'] * user_stats['num_ratings']) /\n",
    "        (alpha + user_stats['num_ratings'])\n",
    "    )\n",
    "\n",
    "    # Fill NaN values for standard deviation (for users with only one rating)\n",
    "    user_stats['rating_std_dev'] = user_stats['rating_std_dev'].fillna(0)\n",
    "\n",
    "    # Create a combined feature: weighted user average + a scaled version of standard deviation\n",
    "    user_stats['user_rating_tendency'] = user_stats['weighted_user_average'] + 0.5 * user_stats['rating_std_dev']\n",
    "\n",
    "    return user_stats"
   ]
  },
  {
   "cell_type": "code",
   "execution_count": 20,
   "metadata": {},
   "outputs": [],
   "source": [
    "import re\n",
    "emotional_words = set([\n",
    "    'love', 'hate', 'best', 'worst', 'amazing', 'awful', 'fantastic',\n",
    "    'terrible', 'great', 'poor', 'excellent', 'disappointing',\n",
    "    'joyful', 'sad', 'wonderful', 'horrible', 'perfect', 'bad', 'good'\n",
    "    # Add more emotional or subjective words as needed\n",
    "])\n",
    "def count_emotional_words(text, emotional_words):\n",
    "    \"\"\"\n",
    "    Count the number of emotional words in the given text.\n",
    "\n",
    "    :param text: The text to analyze\n",
    "    :param emotional_words: A set of emotional words to look for\n",
    "    :return: The count of emotional words in the text\n",
    "    \"\"\"\n",
    "    words = re.findall(r'\\b\\w+\\b', str(text).lower())\n",
    "    return sum(1 for word in words if word in emotional_words)\n"
   ]
  },
  {
   "cell_type": "code",
   "execution_count": 18,
   "metadata": {},
   "outputs": [],
   "source": [
    "def load_nrc_emotion_lexicon(filepath):\n",
    "    \"\"\"\n",
    "    Load the NRC Emotion Lexicon into a set of sentiment words.\n",
    "\n",
    "    :param filepath: Path to the NRC Emotion Lexicon file\n",
    "    :return: Set of words related to emotions\n",
    "    \"\"\"\n",
    "    emotion_words = set()\n",
    "    with open(filepath, 'r') as file:\n",
    "        for line in file:\n",
    "            word, emotion, association = line.strip().split('\\t')\n",
    "            if int(association) == 1:\n",
    "                emotion_words.add(word)\n",
    "    return emotion_words\n",
    "\n",
    "# Example usage:\n",
    "emotion_words = load_nrc_emotion_lexicon('NRC-Emotion-Lexicon/NRC-Emotion-Lexicon-Senselevel-v0.92.txt')\n",
    "\n",
    "def get_frequent_words_by_star(df, emotion_words, top_n=50):\n",
    "    \"\"\"\n",
    "    Identify the top N common words for each star rating, using a sentiment lexicon.\n",
    "\n",
    "    :param df: DataFrame with 'Text' and 'Score' columns\n",
    "    :param emotion_words: Set of words related to emotions or satisfaction\n",
    "    :param top_n: Number of top words to consider for each rating\n",
    "    :return: Dictionary with star ratings as keys and sets of top words as values\n",
    "    \"\"\"\n",
    "    from collections import Counter\n",
    "    import re\n",
    "\n",
    "    # Dictionary to hold word counts per rating class\n",
    "    word_counts_by_score = {1: Counter(), 2: Counter(), 3: Counter(), 4: Counter(), 5: Counter()}\n",
    "\n",
    "    # Tokenize and update word counts for each rating class\n",
    "    for _, row in df.iterrows():\n",
    "        score = row['Score']\n",
    "        if pd.isna(score) or score not in word_counts_by_score:\n",
    "            continue\n",
    "\n",
    "        text = str(row['Text']).lower() if pd.notnull(row['Text']) else \"\"\n",
    "        words = re.findall(r'\\b\\w+\\b', text)\n",
    "\n",
    "        # Filter the words to only include those in the emotion_words list\n",
    "        filtered_words = [word for word in words if word in emotion_words]\n",
    "\n",
    "        # Update word counts for the corresponding score\n",
    "        word_counts_by_score[score].update(filtered_words)\n",
    "\n",
    "    # Get the top N most common words for each score\n",
    "    top_words_by_score = {\n",
    "        score: set(word for word, count in word_counts.most_common(top_n))\n",
    "        for score, word_counts in word_counts_by_score.items()\n",
    "    }\n",
    "\n",
    "    return top_words_by_score\n"
   ]
  },
  {
   "cell_type": "code",
   "execution_count": 21,
   "metadata": {},
   "outputs": [],
   "source": [
    "import re\n",
    "def add_features_to(df):\n",
    "    # This is where you can do all your feature extraction\n",
    "\n",
    "    df['Helpfulness'] = df['HelpfulnessNumerator'] / df['HelpfulnessDenominator']\n",
    "    df['Helpfulness'] = df['Helpfulness'].fillna(0)\n",
    "    df['HelpfulnessGap'] = df['HelpfulnessDenominator'] - df['HelpfulnessNumerator']\n",
    "    df['HelpfulnessGap'] = df['HelpfulnessGap'].fillna(0)\n",
    "\n",
    "    #Combined Helpfulness Rating\n",
    "    a=1.0\n",
    "    b=0.5\n",
    "    df['CombinedHelpfulness'] = a * df['Helpfulness'] + b * df['HelpfulnessGap']\n",
    "    df['CombinedHelpfulness'] = df['CombinedHelpfulness'].fillna(0)\n",
    "\n",
    "    # Add feature for the count of emotional words\n",
    "    df['EmotionalWordCount'] = df['Text'].apply(lambda x: count_emotional_words(x, emotional_words))\n",
    "    df['EmotionalWordCount'] = df['EmotionalWordCount'].fillna(0)\n",
    "\n",
    "    # User Tendency section\n",
    "    alpha =5\n",
    "    user_stats = compute_user_rating_features(df, alpha)\n",
    "    df = pd.merge(df, user_stats[['UserId', 'weighted_user_average', 'rating_std_dev', 'user_rating_tendency']],\n",
    "                  on='UserId', how='left')\n",
    "\n",
    "    a, b, c = 1.0, 0.5, 0.5  # Weights for combining the features\n",
    "    df['user_combined_rating'] = (a * df['weighted_user_average'] +\n",
    "                                  b * df['rating_std_dev'] +\n",
    "                                  c * df['user_rating_tendency'])\n",
    "\n",
    "    # Sentiment Score\n",
    "    df['SentimentScore'] = df['Text'].apply(calculate_vader_sentiment_score)\n",
    "    df['SentimentScore'] = df['SentimentScore'].fillna(0)\n",
    "\n",
    "    # Fill any remaining NaN values for the new features (if needed)\n",
    "    df['user_combined_rating'] = df['user_combined_rating'].fillna(df['user_combined_rating'].mean())\n",
    "    df['user_combined_rating'] = df['user_combined_rating'].fillna(0)\n",
    "\n",
    "    return df\n",
    "\n",
    "\n",
    "# Load the feature extracted files if they've already been generated\n",
    "if exists('./data/X_train.csv'):\n",
    "    X_train = pd.read_csv(\"./data/X_train.csv\")\n",
    "if exists('./data/X_submission.csv'):\n",
    "    X_submission = pd.read_csv(\"./data/X_submission.csv\")\n",
    "\n",
    "else:\n",
    "    # Process the DataFrame\n",
    "    train = add_features_to(trainingSet)\n",
    "\n",
    "    # Merge on Id so that the submission set can have feature columns as well\n",
    "    X_submission = pd.merge(train, testingSet, left_on='Id', right_on='Id')\n",
    "    X_submission = X_submission.drop(columns=['Score_x'])\n",
    "    X_submission = X_submission.rename(columns={'Score_y': 'Score'})\n",
    "\n",
    "    # The training set is where the score is not null\n",
    "    X_train =  train[train['Score'].notnull()]\n",
    "\n",
    "    X_submission.to_csv(\"./data/X_submission.csv\", index=False)\n",
    "    X_train.to_csv(\"./data/X_train.csv\", index=False)"
   ]
  },
  {
   "cell_type": "markdown",
   "metadata": {},
   "source": [
    "# Sample + Split into training and testing set"
   ]
  },
  {
   "cell_type": "code",
   "execution_count": 22,
   "metadata": {},
   "outputs": [
    {
     "name": "stdout",
     "output_type": "stream",
     "text": [
      "Index(['Id', 'ProductId', 'UserId', 'HelpfulnessNumerator',\n",
      "       'HelpfulnessDenominator', 'Time', 'Summary', 'Text', 'Score',\n",
      "       'Helpfulness', 'HelpfulnessGap', 'CombinedHelpfulness',\n",
      "       'EmotionalWordCount', 'weighted_user_average', 'rating_std_dev',\n",
      "       'user_rating_tendency', 'user_combined_rating', 'SentimentScore'],\n",
      "      dtype='object')\n"
     ]
    }
   ],
   "source": [
    "# Split training set into training and testing set\n",
    "print(X_train.columns)  # Check the column names to ensure 'Score' is present\n",
    "\n",
    "X_train, X_test, Y_train, Y_test = train_test_split(\n",
    "\n",
    "    X_train.drop(columns=['Score']),\n",
    "    X_train['Score'],\n",
    "    test_size=1/4.0,\n",
    "    random_state=0\n",
    ")\n"
   ]
  },
  {
   "cell_type": "markdown",
   "metadata": {},
   "source": [
    "# Feature Selection"
   ]
  },
  {
   "cell_type": "code",
   "execution_count": 26,
   "metadata": {},
   "outputs": [],
   "source": [
    "features = ['HelpfulnessNumerator', 'HelpfulnessDenominator', 'Helpfulness', 'user_combined_rating', 'EmotionalWordCount', 'SentimentScore']\n",
    "\n",
    "X_train_select = X_train[features]\n",
    "X_test_select = X_test[features]\n",
    "X_submission_select = X_submission[features]"
   ]
  },
  {
   "cell_type": "markdown",
   "metadata": {},
   "source": [
    "# Model Creation"
   ]
  },
  {
   "cell_type": "code",
   "execution_count": 27,
   "metadata": {},
   "outputs": [],
   "source": [
    "from sklearn.ensemble import GradientBoostingClassifier\n",
    "from sklearn.metrics import accuracy_score, confusion_matrix, classification_report\n",
    "\n",
    "# Create the Gradient Boosting model\n",
    "model = GradientBoostingClassifier(\n",
    "    n_estimators=100,    # Number of boosting stages to be run\n",
    "    learning_rate=0.1,   # Step size shrinkage used in updates to prevent overfitting\n",
    "    max_depth=3,         # Maximum depth of each tree\n",
    "    random_state=0       # Seed for reproducibility\n",
    ")\n",
    "\n",
    "# Train the model on the training data\n",
    "model.fit(X_train_select, Y_train)\n",
    "\n",
    "# Make predictions on the test data\n",
    "Y_test_predictions = model.predict(X_test_select)"
   ]
  },
  {
   "cell_type": "markdown",
   "metadata": {},
   "source": [
    "# Model Evaluation"
   ]
  },
  {
   "cell_type": "code",
   "execution_count": 25,
   "metadata": {},
   "outputs": [
    {
     "name": "stdout",
     "output_type": "stream",
     "text": [
      "Accuracy on testing set =  0.5569888187517504\n"
     ]
    },
    {
     "data": {
      "image/png": "[encoded data removed]",
      "text/plain": [
       "<Figure size 640x480 with 2 Axes>"
      ]
     },
     "metadata": {},
     "output_type": "display_data"
    }
   ],
   "source": [
    "# Evaluate your model on the testing set\n",
    "print(\"Accuracy on testing set = \", accuracy_score(Y_test, Y_test_predictions))\n",
    "\n",
    "# Plot a confusion matrix\n",
    "cm = confusion_matrix(Y_test, Y_test_predictions, normalize='true')\n",
    "sns.heatmap(cm, annot=True)\n",
    "plt.title('Confusion matrix of the classifier')\n",
    "plt.xlabel('Predicted')\n",
    "plt.ylabel('True')\n",
    "plt.show()\n",
    "#0.601845767714415"
   ]
  },
  {
   "cell_type": "markdown",
   "metadata": {},
   "source": [
    "# Create submission file"
   ]
  },
  {
   "cell_type": "code",
   "execution_count": 13,
   "metadata": {},
   "outputs": [
    {
     "name": "stdout",
     "output_type": "stream",
     "text": [
      "(212192, 2)\n"
     ]
    }
   ],
   "source": [
    "# Create the submission file\n",
    "X_submission['Score'] = model.predict(X_submission_select)\n",
    "submission = X_submission[['Id', 'Score']]\n",
    "print(submission.shape)  # Should be (212192, number_of_columns)\n",
    "\n",
    "assert submission.shape[0] == 212192, \"Error: submission.csv does not have 212192 rows\"\n",
    "\n",
    "submission.to_csv(\"./data/submission.csv\", index=False)"
   ]
  }
 ],
 "metadata": {
  "kernelspec": {
   "display_name": "env",
   "language": "python",
   "name": "python3"
  },
  "language_info": {
   "codemirror_mode": {
    "name": "ipython",
    "version": 3
   },
   "file_extension": ".py",
   "mimetype": "text/x-python",
   "name": "python",
   "nbconvert_exporter": "python",
   "pygments_lexer": "ipython3",
   "version": "3.12.0"
  }
 },
 "nbformat": 4,
 "nbformat_minor": 2
}
